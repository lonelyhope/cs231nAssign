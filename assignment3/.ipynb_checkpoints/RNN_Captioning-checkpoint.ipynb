{
 "cells": [
  {
   "cell_type": "markdown",
   "metadata": {
    "deletable": true,
    "editable": true
   },
   "source": [
    "# Image Captioning with RNNs\n",
    "In this exercise you will implement a vanilla recurrent neural networks and use them it to train a model that can generate novel captions for images."
   ]
  },
  {
   "cell_type": "code",
   "execution_count": 1,
   "metadata": {
    "collapsed": false,
    "deletable": true,
    "editable": true
   },
   "outputs": [],
   "source": [
    "# As usual, a bit of setup\n",
    "from __future__ import print_function\n",
    "import time, os, json\n",
    "import numpy as np\n",
    "import matplotlib.pyplot as plt\n",
    "\n",
    "from cs231n.gradient_check import eval_numerical_gradient, eval_numerical_gradient_array\n",
    "from cs231n.rnn_layers import *\n",
    "from cs231n.captioning_solver import CaptioningSolver\n",
    "from cs231n.classifiers.rnn import CaptioningRNN\n",
    "from cs231n.coco_utils import load_coco_data, sample_coco_minibatch, decode_captions\n",
    "from cs231n.image_utils import image_from_url\n",
    "\n",
    "%matplotlib inline\n",
    "plt.rcParams['figure.figsize'] = (10.0, 8.0) # set default size of plots\n",
    "plt.rcParams['image.interpolation'] = 'nearest'\n",
    "plt.rcParams['image.cmap'] = 'gray'\n",
    "\n",
    "# for auto-reloading external modules\n",
    "# see http://stackoverflow.com/questions/1907993/autoreload-of-modules-in-ipython\n",
    "%load_ext autoreload\n",
    "%autoreload 2\n",
    "\n",
    "def rel_error(x, y):\n",
    "    \"\"\" returns relative error \"\"\"\n",
    "    return np.max(np.abs(x - y) / (np.maximum(1e-8, np.abs(x) + np.abs(y))))"
   ]
  },
  {
   "cell_type": "markdown",
   "metadata": {
    "deletable": true,
    "editable": true
   },
   "source": [
    "## Install h5py\n",
    "The COCO dataset we will be using is stored in HDF5 format. To load HDF5 files, we will need to install the `h5py` Python package. From the command line, run: <br/>\n",
    "`pip install h5py`  <br/>\n",
    "If you receive a permissions error, you may need to run the command as root: <br/>\n",
    "```sudo pip install h5py```\n",
    "\n",
    "You can also run commands directly from the Jupyter notebook by prefixing the command with the \"!\" character:"
   ]
  },
  {
   "cell_type": "code",
   "execution_count": 2,
   "metadata": {
    "collapsed": false,
    "deletable": true,
    "editable": true
   },
   "outputs": [
    {
     "name": "stdout",
     "output_type": "stream",
     "text": [
      "Requirement already satisfied: h5py in ./.env3/lib/python3.6/site-packages (2.7.0)\r\n",
      "Requirement already satisfied: numpy>=1.7 in ./.env3/lib/python3.6/site-packages (from h5py) (1.12.1)\r\n",
      "Requirement already satisfied: six in ./.env3/lib/python3.6/site-packages (from h5py) (1.10.0)\r\n"
     ]
    }
   ],
   "source": [
    "!pip install h5py"
   ]
  },
  {
   "cell_type": "markdown",
   "metadata": {
    "deletable": true,
    "editable": true
   },
   "source": [
    "# Microsoft COCO\n",
    "For this exercise we will use the 2014 release of the [Microsoft COCO dataset](http://mscoco.org/) which has become the standard testbed for image captioning. The dataset consists of 80,000 training images and 40,000 validation images, each annotated with 5 captions written by workers on Amazon Mechanical Turk.\n",
    "\n",
    "You should have already downloaded the data by changing to the `cs231n/datasets` directory and running the script `get_assignment3_data.sh`. If you haven't yet done so, run that script now. Warning: the COCO data download is ~1GB.\n",
    "\n",
    "We have preprocessed the data and extracted features for you already. For all images we have extracted features from the fc7 layer of the VGG-16 network pretrained on ImageNet; these features are stored in the files `train2014_vgg16_fc7.h5` and `val2014_vgg16_fc7.h5` respectively. To cut down on processing time and memory requirements, we have reduced the dimensionality of the features from 4096 to 512; these features can be found in the files `train2014_vgg16_fc7_pca.h5` and `val2014_vgg16_fc7_pca.h5`.\n",
    "\n",
    "The raw images take up a lot of space (nearly 20GB) so we have not included them in the download. However all images are taken from Flickr, and URLs of the training and validation images are stored in the files `train2014_urls.txt` and `val2014_urls.txt` respectively. This allows you to download images on the fly for visualization. Since images are downloaded on-the-fly, **you must be connected to the internet to view images**.\n",
    "\n",
    "Dealing with strings is inefficient, so we will work with an encoded version of the captions. Each word is assigned an integer ID, allowing us to represent a caption by a sequence of integers. The mapping between integer IDs and words is in the file `coco2014_vocab.json`, and you can use the function `decode_captions` from the file `cs231n/coco_utils.py` to convert numpy arrays of integer IDs back into strings.\n",
    "\n",
    "There are a couple special tokens that we add to the vocabulary. We prepend a special `<START>` token and append an `<END>` token to the beginning and end of each caption respectively. Rare words are replaced with a special `<UNK>` token (for \"unknown\"). In addition, since we want to train with minibatches containing captions of different lengths, we pad short captions with a special `<NULL>` token after the `<END>` token and don't compute loss or gradient for `<NULL>` tokens. Since they are a bit of a pain, we have taken care of all implementation details around special tokens for you.\n",
    "\n",
    "You can load all of the MS-COCO data (captions, features, URLs, and vocabulary) using the `load_coco_data` function from the file `cs231n/coco_utils.py`. Run the following cell to do so:"
   ]
  },
  {
   "cell_type": "code",
   "execution_count": 3,
   "metadata": {
    "collapsed": false,
    "deletable": true,
    "editable": true
   },
   "outputs": [
    {
     "name": "stdout",
     "output_type": "stream",
     "text": [
      "train_captions <class 'numpy.ndarray'> (400135, 17) int32\n",
      "train_image_idxs <class 'numpy.ndarray'> (400135,) int32\n",
      "val_captions <class 'numpy.ndarray'> (195954, 17) int32\n",
      "val_image_idxs <class 'numpy.ndarray'> (195954,) int32\n",
      "train_features <class 'numpy.ndarray'> (82783, 512) float32\n",
      "val_features <class 'numpy.ndarray'> (40504, 512) float32\n",
      "idx_to_word <class 'list'> 1004\n",
      "word_to_idx <class 'dict'> 1004\n",
      "train_urls <class 'numpy.ndarray'> (82783,) <U63\n",
      "val_urls <class 'numpy.ndarray'> (40504,) <U63\n"
     ]
    }
   ],
   "source": [
    "# Load COCO data from disk; this returns a dictionary\n",
    "# We'll work with dimensionality-reduced features for this notebook, but feel\n",
    "# free to experiment with the original features by changing the flag below.\n",
    "data = load_coco_data(pca_features=True)\n",
    "\n",
    "# Print out all the keys and values from the data dictionary\n",
    "for k, v in data.items():\n",
    "    if type(v) == np.ndarray:\n",
    "        print(k, type(v), v.shape, v.dtype)\n",
    "    else:\n",
    "        print(k, type(v), len(v))"
   ]
  },
  {
   "cell_type": "markdown",
   "metadata": {
    "deletable": true,
    "editable": true
   },
   "source": [
    "## Look at the data\n",
    "It is always a good idea to look at examples from the dataset before working with it.\n",
    "\n",
    "You can use the `sample_coco_minibatch` function from the file `cs231n/coco_utils.py` to sample minibatches of data from the data structure returned from `load_coco_data`. Run the following to sample a small minibatch of training data and show the images and their captions. Running it multiple times and looking at the results helps you to get a sense of the dataset.\n",
    "\n",
    "Note that we decode the captions using the `decode_captions` function and that we download the images on-the-fly using their Flickr URL, so **you must be connected to the internet to view images**."
   ]
  },
  {
   "cell_type": "code",
   "execution_count": 5,
   "metadata": {
    "collapsed": false,
    "deletable": true,
    "editable": true
   },
   "outputs": [
    {
     "ename": "ConnectionResetError",
     "evalue": "[Errno 54] Connection reset by peer",
     "output_type": "error",
     "traceback": [
      "\u001b[0;31m---------------------------------------------------------------------------\u001b[0m",
      "\u001b[0;31mConnectionResetError\u001b[0m                      Traceback (most recent call last)",
      "\u001b[0;32m<ipython-input-5-9d48f2b5e73f>\u001b[0m in \u001b[0;36m<module>\u001b[0;34m()\u001b[0m\n\u001b[1;32m      4\u001b[0m \u001b[0mcaptions\u001b[0m\u001b[0;34m,\u001b[0m \u001b[0mfeatures\u001b[0m\u001b[0;34m,\u001b[0m \u001b[0murls\u001b[0m \u001b[0;34m=\u001b[0m \u001b[0msample_coco_minibatch\u001b[0m\u001b[0;34m(\u001b[0m\u001b[0mdata\u001b[0m\u001b[0;34m,\u001b[0m \u001b[0mbatch_size\u001b[0m\u001b[0;34m=\u001b[0m\u001b[0mbatch_size\u001b[0m\u001b[0;34m)\u001b[0m\u001b[0;34m\u001b[0m\u001b[0m\n\u001b[1;32m      5\u001b[0m \u001b[0;32mfor\u001b[0m \u001b[0mi\u001b[0m\u001b[0;34m,\u001b[0m \u001b[0;34m(\u001b[0m\u001b[0mcaption\u001b[0m\u001b[0;34m,\u001b[0m \u001b[0murl\u001b[0m\u001b[0;34m)\u001b[0m \u001b[0;32min\u001b[0m \u001b[0menumerate\u001b[0m\u001b[0;34m(\u001b[0m\u001b[0mzip\u001b[0m\u001b[0;34m(\u001b[0m\u001b[0mcaptions\u001b[0m\u001b[0;34m,\u001b[0m \u001b[0murls\u001b[0m\u001b[0;34m)\u001b[0m\u001b[0;34m)\u001b[0m\u001b[0;34m:\u001b[0m\u001b[0;34m\u001b[0m\u001b[0m\n\u001b[0;32m----> 6\u001b[0;31m     \u001b[0mplt\u001b[0m\u001b[0;34m.\u001b[0m\u001b[0mimshow\u001b[0m\u001b[0;34m(\u001b[0m\u001b[0mimage_from_url\u001b[0m\u001b[0;34m(\u001b[0m\u001b[0murl\u001b[0m\u001b[0;34m)\u001b[0m\u001b[0;34m)\u001b[0m\u001b[0;34m\u001b[0m\u001b[0m\n\u001b[0m\u001b[1;32m      7\u001b[0m     \u001b[0mplt\u001b[0m\u001b[0;34m.\u001b[0m\u001b[0maxis\u001b[0m\u001b[0;34m(\u001b[0m\u001b[0;34m'off'\u001b[0m\u001b[0;34m)\u001b[0m\u001b[0;34m\u001b[0m\u001b[0m\n\u001b[1;32m      8\u001b[0m     \u001b[0mcaption_str\u001b[0m \u001b[0;34m=\u001b[0m \u001b[0mdecode_captions\u001b[0m\u001b[0;34m(\u001b[0m\u001b[0mcaption\u001b[0m\u001b[0;34m,\u001b[0m \u001b[0mdata\u001b[0m\u001b[0;34m[\u001b[0m\u001b[0;34m'idx_to_word'\u001b[0m\u001b[0;34m]\u001b[0m\u001b[0;34m)\u001b[0m\u001b[0;34m\u001b[0m\u001b[0m\n",
      "\u001b[0;32m/Users/macbookair/Desktop/sdudy/大四/cs231n/hw/assign/assignment3/cs231n/image_utils.py\u001b[0m in \u001b[0;36mimage_from_url\u001b[0;34m(url)\u001b[0m\n\u001b[1;32m     60\u001b[0m     \"\"\"\n\u001b[1;32m     61\u001b[0m     \u001b[0;32mtry\u001b[0m\u001b[0;34m:\u001b[0m\u001b[0;34m\u001b[0m\u001b[0m\n\u001b[0;32m---> 62\u001b[0;31m         \u001b[0mf\u001b[0m \u001b[0;34m=\u001b[0m \u001b[0murllib\u001b[0m\u001b[0;34m.\u001b[0m\u001b[0mrequest\u001b[0m\u001b[0;34m.\u001b[0m\u001b[0murlopen\u001b[0m\u001b[0;34m(\u001b[0m\u001b[0murl\u001b[0m\u001b[0;34m)\u001b[0m\u001b[0;34m\u001b[0m\u001b[0m\n\u001b[0m\u001b[1;32m     63\u001b[0m         \u001b[0m_\u001b[0m\u001b[0;34m,\u001b[0m \u001b[0mfname\u001b[0m \u001b[0;34m=\u001b[0m \u001b[0mtempfile\u001b[0m\u001b[0;34m.\u001b[0m\u001b[0mmkstemp\u001b[0m\u001b[0;34m(\u001b[0m\u001b[0;34m)\u001b[0m\u001b[0;34m\u001b[0m\u001b[0m\n\u001b[1;32m     64\u001b[0m         \u001b[0;32mwith\u001b[0m \u001b[0mopen\u001b[0m\u001b[0;34m(\u001b[0m\u001b[0mfname\u001b[0m\u001b[0;34m,\u001b[0m \u001b[0;34m'wb'\u001b[0m\u001b[0;34m)\u001b[0m \u001b[0;32mas\u001b[0m \u001b[0mff\u001b[0m\u001b[0;34m:\u001b[0m\u001b[0;34m\u001b[0m\u001b[0m\n",
      "\u001b[0;32m/Users/macbookair/anaconda3/lib/python3.6/urllib/request.py\u001b[0m in \u001b[0;36murlopen\u001b[0;34m(url, data, timeout, cafile, capath, cadefault, context)\u001b[0m\n\u001b[1;32m    221\u001b[0m     \u001b[0;32melse\u001b[0m\u001b[0;34m:\u001b[0m\u001b[0;34m\u001b[0m\u001b[0m\n\u001b[1;32m    222\u001b[0m         \u001b[0mopener\u001b[0m \u001b[0;34m=\u001b[0m \u001b[0m_opener\u001b[0m\u001b[0;34m\u001b[0m\u001b[0m\n\u001b[0;32m--> 223\u001b[0;31m     \u001b[0;32mreturn\u001b[0m \u001b[0mopener\u001b[0m\u001b[0;34m.\u001b[0m\u001b[0mopen\u001b[0m\u001b[0;34m(\u001b[0m\u001b[0murl\u001b[0m\u001b[0;34m,\u001b[0m \u001b[0mdata\u001b[0m\u001b[0;34m,\u001b[0m \u001b[0mtimeout\u001b[0m\u001b[0;34m)\u001b[0m\u001b[0;34m\u001b[0m\u001b[0m\n\u001b[0m\u001b[1;32m    224\u001b[0m \u001b[0;34m\u001b[0m\u001b[0m\n\u001b[1;32m    225\u001b[0m \u001b[0;32mdef\u001b[0m \u001b[0minstall_opener\u001b[0m\u001b[0;34m(\u001b[0m\u001b[0mopener\u001b[0m\u001b[0;34m)\u001b[0m\u001b[0;34m:\u001b[0m\u001b[0;34m\u001b[0m\u001b[0m\n",
      "\u001b[0;32m/Users/macbookair/anaconda3/lib/python3.6/urllib/request.py\u001b[0m in \u001b[0;36mopen\u001b[0;34m(self, fullurl, data, timeout)\u001b[0m\n\u001b[1;32m    524\u001b[0m             \u001b[0mreq\u001b[0m \u001b[0;34m=\u001b[0m \u001b[0mmeth\u001b[0m\u001b[0;34m(\u001b[0m\u001b[0mreq\u001b[0m\u001b[0;34m)\u001b[0m\u001b[0;34m\u001b[0m\u001b[0m\n\u001b[1;32m    525\u001b[0m \u001b[0;34m\u001b[0m\u001b[0m\n\u001b[0;32m--> 526\u001b[0;31m         \u001b[0mresponse\u001b[0m \u001b[0;34m=\u001b[0m \u001b[0mself\u001b[0m\u001b[0;34m.\u001b[0m\u001b[0m_open\u001b[0m\u001b[0;34m(\u001b[0m\u001b[0mreq\u001b[0m\u001b[0;34m,\u001b[0m \u001b[0mdata\u001b[0m\u001b[0;34m)\u001b[0m\u001b[0;34m\u001b[0m\u001b[0m\n\u001b[0m\u001b[1;32m    527\u001b[0m \u001b[0;34m\u001b[0m\u001b[0m\n\u001b[1;32m    528\u001b[0m         \u001b[0;31m# post-process response\u001b[0m\u001b[0;34m\u001b[0m\u001b[0;34m\u001b[0m\u001b[0m\n",
      "\u001b[0;32m/Users/macbookair/anaconda3/lib/python3.6/urllib/request.py\u001b[0m in \u001b[0;36m_open\u001b[0;34m(self, req, data)\u001b[0m\n\u001b[1;32m    542\u001b[0m         \u001b[0mprotocol\u001b[0m \u001b[0;34m=\u001b[0m \u001b[0mreq\u001b[0m\u001b[0;34m.\u001b[0m\u001b[0mtype\u001b[0m\u001b[0;34m\u001b[0m\u001b[0m\n\u001b[1;32m    543\u001b[0m         result = self._call_chain(self.handle_open, protocol, protocol +\n\u001b[0;32m--> 544\u001b[0;31m                                   '_open', req)\n\u001b[0m\u001b[1;32m    545\u001b[0m         \u001b[0;32mif\u001b[0m \u001b[0mresult\u001b[0m\u001b[0;34m:\u001b[0m\u001b[0;34m\u001b[0m\u001b[0m\n\u001b[1;32m    546\u001b[0m             \u001b[0;32mreturn\u001b[0m \u001b[0mresult\u001b[0m\u001b[0;34m\u001b[0m\u001b[0m\n",
      "\u001b[0;32m/Users/macbookair/anaconda3/lib/python3.6/urllib/request.py\u001b[0m in \u001b[0;36m_call_chain\u001b[0;34m(self, chain, kind, meth_name, *args)\u001b[0m\n\u001b[1;32m    502\u001b[0m         \u001b[0;32mfor\u001b[0m \u001b[0mhandler\u001b[0m \u001b[0;32min\u001b[0m \u001b[0mhandlers\u001b[0m\u001b[0;34m:\u001b[0m\u001b[0;34m\u001b[0m\u001b[0m\n\u001b[1;32m    503\u001b[0m             \u001b[0mfunc\u001b[0m \u001b[0;34m=\u001b[0m \u001b[0mgetattr\u001b[0m\u001b[0;34m(\u001b[0m\u001b[0mhandler\u001b[0m\u001b[0;34m,\u001b[0m \u001b[0mmeth_name\u001b[0m\u001b[0;34m)\u001b[0m\u001b[0;34m\u001b[0m\u001b[0m\n\u001b[0;32m--> 504\u001b[0;31m             \u001b[0mresult\u001b[0m \u001b[0;34m=\u001b[0m \u001b[0mfunc\u001b[0m\u001b[0;34m(\u001b[0m\u001b[0;34m*\u001b[0m\u001b[0margs\u001b[0m\u001b[0;34m)\u001b[0m\u001b[0;34m\u001b[0m\u001b[0m\n\u001b[0m\u001b[1;32m    505\u001b[0m             \u001b[0;32mif\u001b[0m \u001b[0mresult\u001b[0m \u001b[0;32mis\u001b[0m \u001b[0;32mnot\u001b[0m \u001b[0;32mNone\u001b[0m\u001b[0;34m:\u001b[0m\u001b[0;34m\u001b[0m\u001b[0m\n\u001b[1;32m    506\u001b[0m                 \u001b[0;32mreturn\u001b[0m \u001b[0mresult\u001b[0m\u001b[0;34m\u001b[0m\u001b[0m\n",
      "\u001b[0;32m/Users/macbookair/anaconda3/lib/python3.6/urllib/request.py\u001b[0m in \u001b[0;36mhttp_open\u001b[0;34m(self, req)\u001b[0m\n\u001b[1;32m   1344\u001b[0m \u001b[0;34m\u001b[0m\u001b[0m\n\u001b[1;32m   1345\u001b[0m     \u001b[0;32mdef\u001b[0m \u001b[0mhttp_open\u001b[0m\u001b[0;34m(\u001b[0m\u001b[0mself\u001b[0m\u001b[0;34m,\u001b[0m \u001b[0mreq\u001b[0m\u001b[0;34m)\u001b[0m\u001b[0;34m:\u001b[0m\u001b[0;34m\u001b[0m\u001b[0m\n\u001b[0;32m-> 1346\u001b[0;31m         \u001b[0;32mreturn\u001b[0m \u001b[0mself\u001b[0m\u001b[0;34m.\u001b[0m\u001b[0mdo_open\u001b[0m\u001b[0;34m(\u001b[0m\u001b[0mhttp\u001b[0m\u001b[0;34m.\u001b[0m\u001b[0mclient\u001b[0m\u001b[0;34m.\u001b[0m\u001b[0mHTTPConnection\u001b[0m\u001b[0;34m,\u001b[0m \u001b[0mreq\u001b[0m\u001b[0;34m)\u001b[0m\u001b[0;34m\u001b[0m\u001b[0m\n\u001b[0m\u001b[1;32m   1347\u001b[0m \u001b[0;34m\u001b[0m\u001b[0m\n\u001b[1;32m   1348\u001b[0m     \u001b[0mhttp_request\u001b[0m \u001b[0;34m=\u001b[0m \u001b[0mAbstractHTTPHandler\u001b[0m\u001b[0;34m.\u001b[0m\u001b[0mdo_request_\u001b[0m\u001b[0;34m\u001b[0m\u001b[0m\n",
      "\u001b[0;32m/Users/macbookair/anaconda3/lib/python3.6/urllib/request.py\u001b[0m in \u001b[0;36mdo_open\u001b[0;34m(self, http_class, req, **http_conn_args)\u001b[0m\n\u001b[1;32m   1319\u001b[0m             \u001b[0;32mexcept\u001b[0m \u001b[0mOSError\u001b[0m \u001b[0;32mas\u001b[0m \u001b[0merr\u001b[0m\u001b[0;34m:\u001b[0m \u001b[0;31m# timeout error\u001b[0m\u001b[0;34m\u001b[0m\u001b[0m\n\u001b[1;32m   1320\u001b[0m                 \u001b[0;32mraise\u001b[0m \u001b[0mURLError\u001b[0m\u001b[0;34m(\u001b[0m\u001b[0merr\u001b[0m\u001b[0;34m)\u001b[0m\u001b[0;34m\u001b[0m\u001b[0m\n\u001b[0;32m-> 1321\u001b[0;31m             \u001b[0mr\u001b[0m \u001b[0;34m=\u001b[0m \u001b[0mh\u001b[0m\u001b[0;34m.\u001b[0m\u001b[0mgetresponse\u001b[0m\u001b[0;34m(\u001b[0m\u001b[0;34m)\u001b[0m\u001b[0;34m\u001b[0m\u001b[0m\n\u001b[0m\u001b[1;32m   1322\u001b[0m         \u001b[0;32mexcept\u001b[0m\u001b[0;34m:\u001b[0m\u001b[0;34m\u001b[0m\u001b[0m\n\u001b[1;32m   1323\u001b[0m             \u001b[0mh\u001b[0m\u001b[0;34m.\u001b[0m\u001b[0mclose\u001b[0m\u001b[0;34m(\u001b[0m\u001b[0;34m)\u001b[0m\u001b[0;34m\u001b[0m\u001b[0m\n",
      "\u001b[0;32m/Users/macbookair/anaconda3/lib/python3.6/http/client.py\u001b[0m in \u001b[0;36mgetresponse\u001b[0;34m(self)\u001b[0m\n\u001b[1;32m   1329\u001b[0m         \u001b[0;32mtry\u001b[0m\u001b[0;34m:\u001b[0m\u001b[0;34m\u001b[0m\u001b[0m\n\u001b[1;32m   1330\u001b[0m             \u001b[0;32mtry\u001b[0m\u001b[0;34m:\u001b[0m\u001b[0;34m\u001b[0m\u001b[0m\n\u001b[0;32m-> 1331\u001b[0;31m                 \u001b[0mresponse\u001b[0m\u001b[0;34m.\u001b[0m\u001b[0mbegin\u001b[0m\u001b[0;34m(\u001b[0m\u001b[0;34m)\u001b[0m\u001b[0;34m\u001b[0m\u001b[0m\n\u001b[0m\u001b[1;32m   1332\u001b[0m             \u001b[0;32mexcept\u001b[0m \u001b[0mConnectionError\u001b[0m\u001b[0;34m:\u001b[0m\u001b[0;34m\u001b[0m\u001b[0m\n\u001b[1;32m   1333\u001b[0m                 \u001b[0mself\u001b[0m\u001b[0;34m.\u001b[0m\u001b[0mclose\u001b[0m\u001b[0;34m(\u001b[0m\u001b[0;34m)\u001b[0m\u001b[0;34m\u001b[0m\u001b[0m\n",
      "\u001b[0;32m/Users/macbookair/anaconda3/lib/python3.6/http/client.py\u001b[0m in \u001b[0;36mbegin\u001b[0;34m(self)\u001b[0m\n\u001b[1;32m    295\u001b[0m         \u001b[0;31m# read until we get a non-100 response\u001b[0m\u001b[0;34m\u001b[0m\u001b[0;34m\u001b[0m\u001b[0m\n\u001b[1;32m    296\u001b[0m         \u001b[0;32mwhile\u001b[0m \u001b[0;32mTrue\u001b[0m\u001b[0;34m:\u001b[0m\u001b[0;34m\u001b[0m\u001b[0m\n\u001b[0;32m--> 297\u001b[0;31m             \u001b[0mversion\u001b[0m\u001b[0;34m,\u001b[0m \u001b[0mstatus\u001b[0m\u001b[0;34m,\u001b[0m \u001b[0mreason\u001b[0m \u001b[0;34m=\u001b[0m \u001b[0mself\u001b[0m\u001b[0;34m.\u001b[0m\u001b[0m_read_status\u001b[0m\u001b[0;34m(\u001b[0m\u001b[0;34m)\u001b[0m\u001b[0;34m\u001b[0m\u001b[0m\n\u001b[0m\u001b[1;32m    298\u001b[0m             \u001b[0;32mif\u001b[0m \u001b[0mstatus\u001b[0m \u001b[0;34m!=\u001b[0m \u001b[0mCONTINUE\u001b[0m\u001b[0;34m:\u001b[0m\u001b[0;34m\u001b[0m\u001b[0m\n\u001b[1;32m    299\u001b[0m                 \u001b[0;32mbreak\u001b[0m\u001b[0;34m\u001b[0m\u001b[0m\n",
      "\u001b[0;32m/Users/macbookair/anaconda3/lib/python3.6/http/client.py\u001b[0m in \u001b[0;36m_read_status\u001b[0;34m(self)\u001b[0m\n\u001b[1;32m    256\u001b[0m \u001b[0;34m\u001b[0m\u001b[0m\n\u001b[1;32m    257\u001b[0m     \u001b[0;32mdef\u001b[0m \u001b[0m_read_status\u001b[0m\u001b[0;34m(\u001b[0m\u001b[0mself\u001b[0m\u001b[0;34m)\u001b[0m\u001b[0;34m:\u001b[0m\u001b[0;34m\u001b[0m\u001b[0m\n\u001b[0;32m--> 258\u001b[0;31m         \u001b[0mline\u001b[0m \u001b[0;34m=\u001b[0m \u001b[0mstr\u001b[0m\u001b[0;34m(\u001b[0m\u001b[0mself\u001b[0m\u001b[0;34m.\u001b[0m\u001b[0mfp\u001b[0m\u001b[0;34m.\u001b[0m\u001b[0mreadline\u001b[0m\u001b[0;34m(\u001b[0m\u001b[0m_MAXLINE\u001b[0m \u001b[0;34m+\u001b[0m \u001b[0;36m1\u001b[0m\u001b[0;34m)\u001b[0m\u001b[0;34m,\u001b[0m \u001b[0;34m\"iso-8859-1\"\u001b[0m\u001b[0;34m)\u001b[0m\u001b[0;34m\u001b[0m\u001b[0m\n\u001b[0m\u001b[1;32m    259\u001b[0m         \u001b[0;32mif\u001b[0m \u001b[0mlen\u001b[0m\u001b[0;34m(\u001b[0m\u001b[0mline\u001b[0m\u001b[0;34m)\u001b[0m \u001b[0;34m>\u001b[0m \u001b[0m_MAXLINE\u001b[0m\u001b[0;34m:\u001b[0m\u001b[0;34m\u001b[0m\u001b[0m\n\u001b[1;32m    260\u001b[0m             \u001b[0;32mraise\u001b[0m \u001b[0mLineTooLong\u001b[0m\u001b[0;34m(\u001b[0m\u001b[0;34m\"status line\"\u001b[0m\u001b[0;34m)\u001b[0m\u001b[0;34m\u001b[0m\u001b[0m\n",
      "\u001b[0;32m/Users/macbookair/anaconda3/lib/python3.6/socket.py\u001b[0m in \u001b[0;36mreadinto\u001b[0;34m(self, b)\u001b[0m\n\u001b[1;32m    584\u001b[0m         \u001b[0;32mwhile\u001b[0m \u001b[0;32mTrue\u001b[0m\u001b[0;34m:\u001b[0m\u001b[0;34m\u001b[0m\u001b[0m\n\u001b[1;32m    585\u001b[0m             \u001b[0;32mtry\u001b[0m\u001b[0;34m:\u001b[0m\u001b[0;34m\u001b[0m\u001b[0m\n\u001b[0;32m--> 586\u001b[0;31m                 \u001b[0;32mreturn\u001b[0m \u001b[0mself\u001b[0m\u001b[0;34m.\u001b[0m\u001b[0m_sock\u001b[0m\u001b[0;34m.\u001b[0m\u001b[0mrecv_into\u001b[0m\u001b[0;34m(\u001b[0m\u001b[0mb\u001b[0m\u001b[0;34m)\u001b[0m\u001b[0;34m\u001b[0m\u001b[0m\n\u001b[0m\u001b[1;32m    587\u001b[0m             \u001b[0;32mexcept\u001b[0m \u001b[0mtimeout\u001b[0m\u001b[0;34m:\u001b[0m\u001b[0;34m\u001b[0m\u001b[0m\n\u001b[1;32m    588\u001b[0m                 \u001b[0mself\u001b[0m\u001b[0;34m.\u001b[0m\u001b[0m_timeout_occurred\u001b[0m \u001b[0;34m=\u001b[0m \u001b[0;32mTrue\u001b[0m\u001b[0;34m\u001b[0m\u001b[0m\n",
      "\u001b[0;31mConnectionResetError\u001b[0m: [Errno 54] Connection reset by peer"
     ]
    }
   ],
   "source": [
    "# Sample a minibatch and show the images and captions\n",
    "batch_size = 3\n",
    "\n",
    "captions, features, urls = sample_coco_minibatch(data, batch_size=batch_size)\n",
    "for i, (caption, url) in enumerate(zip(captions, urls)):\n",
    "    plt.imshow(image_from_url(url))\n",
    "    plt.axis('off')\n",
    "    caption_str = decode_captions(caption, data['idx_to_word'])\n",
    "    plt.title(caption_str)\n",
    "    plt.show()"
   ]
  },
  {
   "cell_type": "markdown",
   "metadata": {
    "deletable": true,
    "editable": true
   },
   "source": [
    "# Recurrent Neural Networks\n",
    "As discussed in lecture, we will use recurrent neural network (RNN) language models for image captioning. The file `cs231n/rnn_layers.py` contains implementations of different layer types that are needed for recurrent neural networks, and the file `cs231n/classifiers/rnn.py` uses these layers to implement an image captioning model.\n",
    "\n",
    "We will first implement different types of RNN layers in `cs231n/rnn_layers.py`."
   ]
  },
  {
   "cell_type": "markdown",
   "metadata": {
    "deletable": true,
    "editable": true
   },
   "source": [
    "# Vanilla RNN: step forward\n",
    "Open the file `cs231n/rnn_layers.py`. This file implements the forward and backward passes for different types of layers that are commonly used in recurrent neural networks.\n",
    "\n",
    "First implement the function `rnn_step_forward` which implements the forward pass for a single timestep of a vanilla recurrent neural network. After doing so run the following to check your implementation. You should see errors less than 1e-8."
   ]
  },
  {
   "cell_type": "code",
   "execution_count": 6,
   "metadata": {
    "collapsed": false,
    "deletable": true,
    "editable": true
   },
   "outputs": [
    {
     "name": "stdout",
     "output_type": "stream",
     "text": [
      "next_h error:  6.29242142647e-09\n"
     ]
    }
   ],
   "source": [
    "N, D, H = 3, 10, 4\n",
    "\n",
    "x = np.linspace(-0.4, 0.7, num=N*D).reshape(N, D)\n",
    "prev_h = np.linspace(-0.2, 0.5, num=N*H).reshape(N, H)\n",
    "Wx = np.linspace(-0.1, 0.9, num=D*H).reshape(D, H)\n",
    "Wh = np.linspace(-0.3, 0.7, num=H*H).reshape(H, H)\n",
    "b = np.linspace(-0.2, 0.4, num=H)\n",
    "\n",
    "next_h, _ = rnn_step_forward(x, prev_h, Wx, Wh, b)\n",
    "expected_next_h = np.asarray([\n",
    "  [-0.58172089, -0.50182032, -0.41232771, -0.31410098],\n",
    "  [ 0.66854692,  0.79562378,  0.87755553,  0.92795967],\n",
    "  [ 0.97934501,  0.99144213,  0.99646691,  0.99854353]])\n",
    "\n",
    "print('next_h error: ', rel_error(expected_next_h, next_h))"
   ]
  },
  {
   "cell_type": "markdown",
   "metadata": {
    "deletable": true,
    "editable": true
   },
   "source": [
    "# Vanilla RNN: step backward\n",
    "In the file `cs231n/rnn_layers.py` implement the `rnn_step_backward` function. After doing so run the following to numerically gradient check your implementation. You should see errors less than `1e-8`."
   ]
  },
  {
   "cell_type": "code",
   "execution_count": 7,
   "metadata": {
    "collapsed": false,
    "deletable": true,
    "editable": true
   },
   "outputs": [
    {
     "name": "stdout",
     "output_type": "stream",
     "text": [
      "dx error:  2.29517452625e-10\n",
      "dprev_h error:  2.58357020561e-10\n",
      "dWx error:  6.22815890058e-10\n",
      "dWh error:  2.34812498512e-10\n",
      "db error:  1.7551478228e-11\n"
     ]
    }
   ],
   "source": [
    "from cs231n.rnn_layers import rnn_step_forward, rnn_step_backward\n",
    "np.random.seed(231)\n",
    "N, D, H = 4, 5, 6\n",
    "x = np.random.randn(N, D)\n",
    "h = np.random.randn(N, H)\n",
    "Wx = np.random.randn(D, H)\n",
    "Wh = np.random.randn(H, H)\n",
    "b = np.random.randn(H)\n",
    "\n",
    "out, cache = rnn_step_forward(x, h, Wx, Wh, b)\n",
    "\n",
    "dnext_h = np.random.randn(*out.shape)\n",
    "\n",
    "fx = lambda x: rnn_step_forward(x, h, Wx, Wh, b)[0]\n",
    "fh = lambda prev_h: rnn_step_forward(x, h, Wx, Wh, b)[0]\n",
    "fWx = lambda Wx: rnn_step_forward(x, h, Wx, Wh, b)[0]\n",
    "fWh = lambda Wh: rnn_step_forward(x, h, Wx, Wh, b)[0]\n",
    "fb = lambda b: rnn_step_forward(x, h, Wx, Wh, b)[0]\n",
    "\n",
    "dx_num = eval_numerical_gradient_array(fx, x, dnext_h)\n",
    "dprev_h_num = eval_numerical_gradient_array(fh, h, dnext_h)\n",
    "dWx_num = eval_numerical_gradient_array(fWx, Wx, dnext_h)\n",
    "dWh_num = eval_numerical_gradient_array(fWh, Wh, dnext_h)\n",
    "db_num = eval_numerical_gradient_array(fb, b, dnext_h)\n",
    "\n",
    "dx, dprev_h, dWx, dWh, db = rnn_step_backward(dnext_h, cache)\n",
    "\n",
    "print('dx error: ', rel_error(dx_num, dx))\n",
    "print('dprev_h error: ', rel_error(dprev_h_num, dprev_h))\n",
    "print('dWx error: ', rel_error(dWx_num, dWx))\n",
    "print('dWh error: ', rel_error(dWh_num, dWh))\n",
    "print('db error: ', rel_error(db_num, db))"
   ]
  },
  {
   "cell_type": "markdown",
   "metadata": {
    "deletable": true,
    "editable": true
   },
   "source": [
    "# Vanilla RNN: forward\n",
    "Now that you have implemented the forward and backward passes for a single timestep of a vanilla RNN, you will combine these pieces to implement a RNN that process an entire sequence of data.\n",
    "\n",
    "In the file `cs231n/rnn_layers.py`, implement the function `rnn_forward`. This should be implemented using the `rnn_step_forward` function that you defined above. After doing so run the following to check your implementation. You should see errors less than `1e-7`."
   ]
  },
  {
   "cell_type": "code",
   "execution_count": 10,
   "metadata": {
    "collapsed": false,
    "deletable": true,
    "editable": true
   },
   "outputs": [
    {
     "name": "stdout",
     "output_type": "stream",
     "text": [
      "h error:  7.72846618019e-08\n"
     ]
    }
   ],
   "source": [
    "N, T, D, H = 2, 3, 4, 5\n",
    "\n",
    "x = np.linspace(-0.1, 0.3, num=N*T*D).reshape(N, T, D)\n",
    "h0 = np.linspace(-0.3, 0.1, num=N*H).reshape(N, H)\n",
    "Wx = np.linspace(-0.2, 0.4, num=D*H).reshape(D, H)\n",
    "Wh = np.linspace(-0.4, 0.1, num=H*H).reshape(H, H)\n",
    "b = np.linspace(-0.7, 0.1, num=H)\n",
    "\n",
    "h, _ = rnn_forward(x, h0, Wx, Wh, b)\n",
    "expected_h = np.asarray([\n",
    "  [\n",
    "    [-0.42070749, -0.27279261, -0.11074945,  0.05740409,  0.22236251],\n",
    "    [-0.39525808, -0.22554661, -0.0409454,   0.14649412,  0.32397316],\n",
    "    [-0.42305111, -0.24223728, -0.04287027,  0.15997045,  0.35014525],\n",
    "  ],\n",
    "  [\n",
    "    [-0.55857474, -0.39065825, -0.19198182,  0.02378408,  0.23735671],\n",
    "    [-0.27150199, -0.07088804,  0.13562939,  0.33099728,  0.50158768],\n",
    "    [-0.51014825, -0.30524429, -0.06755202,  0.17806392,  0.40333043]]])\n",
    "print('h error: ', rel_error(expected_h, h))"
   ]
  },
  {
   "cell_type": "markdown",
   "metadata": {
    "deletable": true,
    "editable": true
   },
   "source": [
    "# Vanilla RNN: backward\n",
    "In the file `cs231n/rnn_layers.py`, implement the backward pass for a vanilla RNN in the function `rnn_backward`. This should run back-propagation over the entire sequence, calling into the `rnn_step_backward` function that you defined above. You should see errors less than 5e-7."
   ]
  },
  {
   "cell_type": "code",
   "execution_count": 20,
   "metadata": {
    "collapsed": false,
    "deletable": true,
    "editable": true
   },
   "outputs": [
    {
     "name": "stdout",
     "output_type": "stream",
     "text": [
      "dx error:  1.53700887737e-09\n",
      "dh0 error:  3.37784624472e-09\n",
      "dWx error:  7.13414370497e-09\n",
      "dWh error:  1.29477929222e-07\n",
      "db error:  2.54375314882e-10\n"
     ]
    }
   ],
   "source": [
    "np.random.seed(231)\n",
    "\n",
    "N, D, T, H = 2, 3, 10, 5\n",
    "\n",
    "x = np.random.randn(N, T, D)\n",
    "h0 = np.random.randn(N, H)\n",
    "Wx = np.random.randn(D, H)\n",
    "Wh = np.random.randn(H, H)\n",
    "b = np.random.randn(H)\n",
    "\n",
    "out, cache = rnn_forward(x, h0, Wx, Wh, b)\n",
    "\n",
    "dout = np.random.randn(*out.shape)\n",
    "\n",
    "dx, dh0, dWx, dWh, db = rnn_backward(dout, cache)\n",
    "\n",
    "fx = lambda x: rnn_forward(x, h0, Wx, Wh, b)[0]\n",
    "fh0 = lambda h0: rnn_forward(x, h0, Wx, Wh, b)[0]\n",
    "fWx = lambda Wx: rnn_forward(x, h0, Wx, Wh, b)[0]\n",
    "fWh = lambda Wh: rnn_forward(x, h0, Wx, Wh, b)[0]\n",
    "fb = lambda b: rnn_forward(x, h0, Wx, Wh, b)[0]\n",
    "\n",
    "dx_num = eval_numerical_gradient_array(fx, x, dout)\n",
    "dh0_num = eval_numerical_gradient_array(fh0, h0, dout)\n",
    "dWx_num = eval_numerical_gradient_array(fWx, Wx, dout)\n",
    "dWh_num = eval_numerical_gradient_array(fWh, Wh, dout)\n",
    "db_num = eval_numerical_gradient_array(fb, b, dout)\n",
    "\n",
    "print('dx error: ', rel_error(dx_num, dx))\n",
    "print('dh0 error: ', rel_error(dh0_num, dh0))\n",
    "print('dWx error: ', rel_error(dWx_num, dWx))\n",
    "print('dWh error: ', rel_error(dWh_num, dWh))\n",
    "print('db error: ', rel_error(db_num, db))"
   ]
  },
  {
   "cell_type": "markdown",
   "metadata": {
    "deletable": true,
    "editable": true
   },
   "source": [
    "# Word embedding: forward\n",
    "In deep learning systems, we commonly represent words using vectors. Each word of the vocabulary will be associated with a vector, and these vectors will be learned jointly with the rest of the system.\n",
    "\n",
    "In the file `cs231n/rnn_layers.py`, implement the function `word_embedding_forward` to convert words (represented by integers) into vectors. Run the following to check your implementation. You should see error around `1e-8`."
   ]
  },
  {
   "cell_type": "code",
   "execution_count": 27,
   "metadata": {
    "collapsed": false,
    "deletable": true,
    "editable": true
   },
   "outputs": [
    {
     "name": "stdout",
     "output_type": "stream",
     "text": [
      "out error:  1.00000000947e-08\n"
     ]
    }
   ],
   "source": [
    "N, T, V, D = 2, 4, 5, 3\n",
    "\n",
    "x = np.asarray([[0, 3, 1, 2], [2, 1, 0, 3]])\n",
    "W = np.linspace(0, 1, num=V*D).reshape(V, D)\n",
    "\n",
    "out, _ = word_embedding_forward(x, W)\n",
    "expected_out = np.asarray([\n",
    " [[ 0.,          0.07142857,  0.14285714],\n",
    "  [ 0.64285714,  0.71428571,  0.78571429],\n",
    "  [ 0.21428571,  0.28571429,  0.35714286],\n",
    "  [ 0.42857143,  0.5,         0.57142857]],\n",
    " [[ 0.42857143,  0.5,         0.57142857],\n",
    "  [ 0.21428571,  0.28571429,  0.35714286],\n",
    "  [ 0.,          0.07142857,  0.14285714],\n",
    "  [ 0.64285714,  0.71428571,  0.78571429]]])\n",
    "\n",
    "print('out error: ', rel_error(expected_out, out))"
   ]
  },
  {
   "cell_type": "markdown",
   "metadata": {
    "deletable": true,
    "editable": true
   },
   "source": [
    "# Word embedding: backward\n",
    "Implement the backward pass for the word embedding function in the function `word_embedding_backward`. After doing so run the following to numerically gradient check your implementation. You should see errors less than `1e-11`."
   ]
  },
  {
   "cell_type": "code",
   "execution_count": 47,
   "metadata": {
    "collapsed": false,
    "deletable": true,
    "editable": true
   },
   "outputs": [
    {
     "name": "stdout",
     "output_type": "stream",
     "text": [
      "[[[  1.00606685e+00  -2.32254468e+00  -3.81680532e-01  -5.09565572e-01\n",
      "    -4.51674344e-02   6.26436758e-01]\n",
      "  [  2.16083441e+00  -8.95394323e-01  -1.64865001e+00  -4.61595122e-01\n",
      "    -2.02453109e-01   1.14838397e-01]\n",
      "  [ -8.31361493e-01   2.52072310e+00  -1.59368342e-01  -4.41198088e-01\n",
      "    -5.81480407e-01  -1.29423667e+00]]\n",
      "\n",
      " [[ -1.17516703e-01   3.46967275e-01  -1.76219204e+00   3.67392803e-01\n",
      "     1.52414979e+00  -1.92550875e+00]\n",
      "  [ -6.84084588e-01  -1.89510747e+00  -1.34323436e+00   9.90296323e-01\n",
      "     1.31652647e+00   2.71328198e+00]\n",
      "  [  2.44254615e-01   9.06665729e-01   3.66644419e-01   8.56320686e-01\n",
      "    -1.93032795e+00   8.70608414e-02]]\n",
      "\n",
      " [[ -3.90787546e-01  -5.36306673e-01  -6.94465972e-02   1.19596293e+00\n",
      "    -1.23569345e+00  -5.38065109e-01]\n",
      "  [ -6.07843396e-01   9.25449919e-01   2.85672975e-01  -5.00010300e-01\n",
      "    -8.85014493e-01  -7.53796256e-01]\n",
      "  [  4.74630092e-01   1.31505602e+00  -6.30054408e-01  -9.32939221e-01\n",
      "     8.60446025e-01   1.42639678e-01]]\n",
      "\n",
      " [[  7.75521878e-01  -2.07169044e+00  -2.67236530e-01   3.12241675e-01\n",
      "    -1.53528121e-01  -1.16098537e+00]\n",
      "  [ -1.33673751e+00   6.79896975e-01   7.02581289e-01   3.92805697e-02\n",
      "    -9.81084541e-02   2.15238055e-01]\n",
      "  [ -3.38282243e-01  -1.33485215e+00  -1.16741677e+00  -4.94412460e-01\n",
      "    -5.51042681e-01   3.84153585e-01]]\n",
      "\n",
      " [[ -2.19487408e+00  -5.42113563e-01  -5.44248829e-01   2.52481217e-01\n",
      "     9.96226373e-01   9.11938743e-01]\n",
      "  [ -6.43742155e-01   1.81611419e+00  -4.52915018e-02   1.02163879e+00\n",
      "    -1.97637771e-01  -1.52348197e-01]\n",
      "  [ -8.76599683e-01   1.18025736e+00  -1.92262215e+00   5.10865131e-01\n",
      "    -4.38819952e-01   7.20893284e-01]]\n",
      "\n",
      " [[ -4.00144302e-01  -1.23944457e-02  -2.14867018e+00   5.41982272e-01\n",
      "    -9.70625855e-01   1.87332083e+00]\n",
      "  [  1.48399223e+00   1.57690373e+00  -5.88499787e-01  -7.41734443e-01\n",
      "     1.31726770e+00  -4.38659877e-01]\n",
      "  [ -1.00271352e-01   2.11746477e+00   1.43051197e+00  -1.96348250e-01\n",
      "    -9.33214381e-02  -1.48436196e+00]]\n",
      "\n",
      " [[  6.46490250e-01  -4.86423940e-01  -3.61779558e-01   1.27179042e+00\n",
      "     1.10640099e+00  -2.30271365e+00]\n",
      "  [ -5.86512465e-01  -7.94697253e-02  -2.26439975e+00  -4.98220385e-01\n",
      "     3.12871633e-01   1.36999569e+00]\n",
      "  [  1.66416488e+00   6.68343400e-01   9.12719635e-01   6.80034692e-02\n",
      "     1.99596161e+00  -8.97622506e-01]]\n",
      "\n",
      " [[ -8.20892555e-01   6.47262259e-01  -1.70397662e+00  -7.13035744e-01\n",
      "     3.09074761e-02  -2.93677070e-01]\n",
      "  [ -8.73718926e-01  -1.22850854e+00  -1.61048640e+00   4.99742045e-01\n",
      "    -1.22293087e+00   1.52676660e+00]\n",
      "  [  1.40002563e+00  -1.39918864e+00   6.17068469e-01   1.47337159e+00\n",
      "     1.19680153e+00  -7.13968664e-01]]\n",
      "\n",
      " [[  6.56883868e-02  -7.72574800e-01   1.04358987e+00   4.29343080e-02\n",
      "     4.00947738e-02  -1.50220843e-01]\n",
      "  [  3.95909889e-01   1.02653182e+00   6.40125479e-01  -2.41067468e-02\n",
      "    -8.19724463e-01   1.00757031e+00]\n",
      "  [  1.07483258e+00   5.13512245e-01   1.13248623e+00  -7.69359698e-01\n",
      "    -2.30006757e+00   6.17357765e-01]]\n",
      "\n",
      " [[  2.36108747e-01  -1.78105487e+00  -1.96522390e+00   1.34083324e+00\n",
      "    -8.28827923e-01   9.28741496e-01]\n",
      "  [  7.51794110e-01   2.33703935e+00  -1.42718067e-01  -7.35181891e-01\n",
      "     8.91157347e-01  -6.71101908e-01]\n",
      "  [  5.27563097e-01   2.88923394e-01  -1.79212673e+00  -4.12867877e-02\n",
      "    -1.93695577e+00   6.51060325e-01]]\n",
      "\n",
      " [[ -6.95455367e-01   3.55857575e-01   1.56775802e+00   9.66027764e-01\n",
      "    -1.38159226e-01   4.43451362e-01]\n",
      "  [ -7.30152600e-01   1.86929418e+00  -1.25043001e+00   7.08442841e-01\n",
      "    -2.87517350e-01   8.63416305e-01]\n",
      "  [ -1.05224606e+00  -2.63997766e-01   1.50673408e+00  -2.79933018e-01\n",
      "    -7.42771349e-01  -1.56116692e-01]]\n",
      "\n",
      " [[ -1.05879347e+00  -1.91786925e-01  -2.11220175e-01   1.40574726e+00\n",
      "     1.26477344e+00  -6.80053239e-02]\n",
      "  [  5.82207425e-01   1.64414639e+00  -4.46729321e-01  -8.92663272e-02\n",
      "     1.49060720e+00   4.20100752e-01]\n",
      "  [ -9.62657760e-01  -5.66557994e-01   1.81209925e+00  -2.07836080e-01\n",
      "     1.37221283e+00  -1.16666611e+00]]\n",
      "\n",
      " [[ -8.51765352e-01   4.34277829e-01   4.30195119e-01  -4.32501856e-01\n",
      "     2.03675501e+00   1.02552432e+00]\n",
      "  [  2.98101412e-01   1.36215797e+00   1.47314530e-01  -7.46376630e-01\n",
      "     1.41689523e+00  -2.13292481e+00]\n",
      "  [  3.23207502e-01   1.59031047e+00   4.66268127e-01   2.36808984e-02\n",
      "    -6.77171375e-01   4.42747641e-01]]\n",
      "\n",
      " [[  1.02709515e-01   3.36361723e-01  -3.02877926e-01   1.30409491e+00\n",
      "     1.18922023e+00  -9.14209645e-01]\n",
      "  [  5.90205768e-02   6.09508099e-01   1.43257400e-01   9.34753047e-02\n",
      "     4.60622888e-01   3.24293470e-01]\n",
      "  [  1.78032916e-01   2.24677650e-01   4.66535663e-01   2.40115275e-01\n",
      "     2.87720761e-01  -2.06623969e+00]]\n",
      "\n",
      " [[ -1.01353512e+00   4.74371702e-01   2.94036896e-02  -1.62801065e+00\n",
      "    -1.19473393e+00  -2.36909770e-02]\n",
      "  [  1.62207686e+00  -8.41615185e-01  -3.56675724e-01  -4.26447351e-02\n",
      "    -8.30510723e-01  -2.37174007e-01]\n",
      "  [ -7.32419984e-01   8.15094673e-01   6.12214957e-01   7.12040498e-01\n",
      "     7.09948729e-01   6.02885810e-01]]\n",
      "\n",
      " [[  1.74314834e+00   9.14846565e-01   1.29013982e-02   3.47336076e-01\n",
      "     1.12386638e+00   1.72084957e-01]\n",
      "  [  4.49982764e-01   1.06724283e+00  -6.42485827e-01  -1.73708898e+00\n",
      "     2.66012201e-01  -1.43566140e+00]\n",
      "  [ -1.82052713e+00   2.50620071e-01   1.88670057e+00   7.57019270e-01\n",
      "    -7.87535627e-01  -7.56724810e-01]]\n",
      "\n",
      " [[  1.02344272e+00   3.41779897e-01   7.05030765e-01   8.45515405e-01\n",
      "    -8.99200756e-01   1.24154553e-01]\n",
      "  [ -1.18577924e-02  -6.34068614e-01   1.23546971e+00   1.14115325e+00\n",
      "     5.93135601e-01  -3.02300755e-01]\n",
      "  [ -1.40142940e-02   8.49441416e-02   8.56143638e-03  -9.68040337e-01\n",
      "     1.47991155e+00  -9.49511127e-01]]\n",
      "\n",
      " [[ -1.01328464e-01   5.50342877e-01  -3.07891510e+00  -1.18580108e+00\n",
      "    -4.07782068e-01   6.39771627e-01]\n",
      "  [  1.91727252e+00   1.00499232e-01   1.24479319e+00  -2.72815197e+00\n",
      "    -8.50816641e-01  -1.25313015e-01]\n",
      "  [  4.81328720e-01  -6.75978046e-02   2.29304108e-01   2.58859680e-01\n",
      "    -4.10401042e-01   1.21857343e-01]]\n",
      "\n",
      " [[  3.02527785e-01   8.99849363e-01  -8.38055985e-02  -9.60501500e-01\n",
      "    -1.64505447e+00   1.08788421e+00]\n",
      "  [  1.20850767e+00   2.46326306e-01  -4.38152402e-01  -1.58074120e-01\n",
      "    -9.27029634e-01  -8.58292522e-01]\n",
      "  [ -5.83250686e-01   1.36499588e+00  -8.98112929e-01  -6.61915479e-01\n",
      "     1.67666883e+00   4.15170447e-01]]\n",
      "\n",
      " [[ -7.60523385e-01  -4.42693105e-01   4.45991847e-01   4.70057636e-01\n",
      "    -1.39712807e+00   1.51656232e-01]\n",
      "  [ -2.75723426e+00   6.35955815e-01  -8.16872433e-01   4.58752261e-01\n",
      "    -1.58632312e-01   3.97680080e-01]\n",
      "  [ -1.00420597e+00   3.90683740e-01   7.69216230e-01   6.68237052e-01\n",
      "     9.93535545e-01   1.01182147e-01]]\n",
      "\n",
      " [[ -4.73693086e-01   6.09217396e-02   3.63797692e-01  -1.38411355e-01\n",
      "    -1.51261086e+00   6.57250228e-01]\n",
      "  [ -1.60282058e+00  -1.59043157e+00   1.38445663e+00   3.52857333e-01\n",
      "    -2.32605717e-01   1.02739690e-01]\n",
      "  [  8.50869106e-01  -7.62528867e-01  -8.72413087e-01   2.15654830e-01\n",
      "     6.18173272e-01   1.47282006e+00]]\n",
      "\n",
      " [[ -1.92434986e+00   6.24985105e-01   4.35051348e-02   1.33665748e+00\n",
      "     1.16668472e-01   2.18253994e-01]\n",
      "  [  1.71245642e-01   3.39780499e-01  -1.30698063e+00  -1.82770130e+00\n",
      "    -8.25882244e-01  -5.20869644e-01]\n",
      "  [ -1.73500593e+00   2.14087818e-01  -3.81790349e-01   1.01533077e+00\n",
      "    -1.69564641e-01   1.22163922e+00]]\n",
      "\n",
      " [[ -8.99274837e-01  -2.54837551e-02   4.11949954e-02   4.20928640e-01\n",
      "     1.79728784e-01  -1.92762070e+00]\n",
      "  [ -5.64737324e-01   1.61812831e+00  -6.58204487e-02  -4.37873202e-01\n",
      "     8.55385541e-02  -6.02186216e-01]\n",
      "  [  8.14446167e-01  -5.18222195e-01  -4.83709724e-01   4.52490271e-01\n",
      "    -8.48404391e-01  -6.82326263e-01]]\n",
      "\n",
      " [[ -7.36257586e-01   2.60831206e-01  -3.14159553e-01   3.70593595e-01\n",
      "     5.08088162e-01  -7.89172684e-01]\n",
      "  [  1.46978511e-01   4.46587785e-01  -7.36812743e-01  -1.29726475e+00\n",
      "     7.54231181e-01   1.23060856e+00]\n",
      "  [ -5.17937440e-01   2.70378277e-01   9.38336831e-01  -1.30591819e+00\n",
      "    -1.26426116e+00   5.60896176e-01]]\n",
      "\n",
      " [[  7.49056808e-01  -6.56078874e-01   5.21173486e-01  -2.20964351e+00\n",
      "     5.27479614e-02  -4.56371649e-01]\n",
      "  [  1.30814500e+00  -5.13118880e-02   3.53768782e-01   2.14547768e-01\n",
      "     1.89061833e-01   1.23373115e+00]\n",
      "  [ -1.23096596e+00  -1.09703925e+00  -6.59316114e-01   1.54479593e-01\n",
      "    -1.40920581e+00   1.86250271e+00]]\n",
      "\n",
      " [[  1.20446200e-01  -5.40021431e-01  -1.01108834e+00  -5.65151485e-02\n",
      "     4.44998452e-01   7.58867668e-02]\n",
      "  [ -5.36268167e-01  -1.66683246e-01  -2.18444949e+00   2.35344314e-01\n",
      "     8.38440627e-01  -1.08078579e+00]\n",
      "  [ -2.56380620e-01  -3.18124400e-01   2.32511128e-01  -9.60094640e-01\n",
      "    -1.66417238e-01   4.00570581e-01]]\n",
      "\n",
      " [[  7.72115012e-01   4.75507953e-01  -2.77282519e-01  -7.28318370e-01\n",
      "     1.37157811e+00   7.65654179e-01]\n",
      "  [ -1.53723807e+00   2.41538398e-01   7.23604851e-02  -6.89623608e-01\n",
      "     4.92801028e-01  -2.05753880e-01]\n",
      "  [  1.24657380e-01   3.00036318e-02   1.59998012e-01   2.37499313e+00\n",
      "    -1.03956369e+00   5.14824122e-01]]\n",
      "\n",
      " [[  7.17713271e-02   2.06310152e-01   2.89467917e-01   9.99044509e-01\n",
      "    -1.44612213e+00  -1.63690902e+00]\n",
      "  [ -2.83107784e-01   9.83392604e-01   9.82810021e-03   8.33103850e-01\n",
      "     4.03369116e-02  -7.75677355e-01]\n",
      "  [ -1.67514483e+00  -1.52357726e-02   1.29588711e+00  -2.34310710e-01\n",
      "    -6.91430632e-01  -4.44502380e-01]]\n",
      "\n",
      " [[ -6.94080352e-01   1.20104831e+00   3.25668912e-01  -1.50550089e-01\n",
      "    -3.88262697e-01   2.51448606e-01]\n",
      "  [  7.16447931e-01  -2.24497674e+00   4.11922392e-01  -9.40292187e-01\n",
      "     1.48820979e-01  -1.55094793e+00]\n",
      "  [  6.79989346e-01  -2.27711100e-01  -1.80350587e+00   1.97307407e+00\n",
      "     1.54380329e-01   8.80978809e-01]]\n",
      "\n",
      " [[  2.15347003e+00  -2.88723646e+00  -1.14661848e-02   4.53370487e-01\n",
      "    -4.84845830e-01   5.73341438e-01]\n",
      "  [ -9.29765091e-01   8.64641112e-01   1.69301560e+00  -8.62478548e-01\n",
      "     1.90398589e+00   8.48792957e-01]\n",
      "  [  6.60581441e-01  -4.48472662e-01  -8.53847037e-01  -4.84132589e-01\n",
      "    -2.40214060e+00  -2.01638737e+00]]\n",
      "\n",
      " [[ -1.09601254e+00   5.68611173e-01  -1.59189852e+00  -1.02817413e+00\n",
      "    -1.10894053e-01  -4.61586773e-01]\n",
      "  [  1.49125707e+00  -7.33640217e-01   8.87579167e-01   1.05430848e-01\n",
      "     9.12132231e-01   6.16656819e-01]\n",
      "  [  1.68752038e+00   8.05820906e-01   1.24812115e+00  -1.63806701e+00\n",
      "     1.82074872e+00  -2.07921937e-01]]\n",
      "\n",
      " [[  1.94346204e+00  -1.09056564e-01   6.87246735e-01   1.10295814e+00\n",
      "    -7.42127135e-01   7.85576950e-01]\n",
      "  [ -3.17533076e-02  -2.71183414e-01   3.61808863e-01  -4.20038314e-01\n",
      "    -5.84891023e-01   1.64160699e+00]\n",
      "  [  8.97384553e-01   4.53810456e-01  -8.55642133e-02   1.65189000e-01\n",
      "     6.42939198e-01   6.48128109e-01]]\n",
      "\n",
      " [[  1.31562684e-01  -8.25841056e-01   1.68741464e-01   1.80593720e-01\n",
      "    -1.89454029e+00  -1.28246820e+00]\n",
      "  [ -6.05456815e-02   1.54009925e-01  -1.03420370e+00   1.47844319e+00\n",
      "     1.09002676e-01  -8.96042313e-01]\n",
      "  [ -1.02434092e+00   3.28609784e-01   2.25761644e+00  -1.18265686e+00\n",
      "    -3.32080211e-01  -6.01171816e-01]]\n",
      "\n",
      " [[  5.71389575e-02  -2.66489856e-01  -2.57598820e-01  -6.00670995e-01\n",
      "     3.10063044e-01   7.62947431e-02]\n",
      "  [  3.57217908e-01   1.74364709e-01  -7.23308282e-02  -1.09582582e+00\n",
      "    -5.23692311e-01  -9.25723179e-01]\n",
      "  [ -1.06054011e+00  -1.81095284e+00   2.18490650e-01  -8.33989024e-01\n",
      "    -1.78013728e+00  -1.35140595e+00]]\n",
      "\n",
      " [[  8.78183890e-01   5.02253446e-01   2.13577610e-01  -3.25317572e-01\n",
      "    -3.28903454e-01  -1.15255678e+00]\n",
      "  [ -2.77225803e+00  -3.26957398e-01  -3.86151482e-01  -1.37511820e+00\n",
      "     8.94368585e-01  -1.28971580e+00]\n",
      "  [  8.02175054e-01  -2.26164078e+00   3.06456045e-01  -6.40701992e-01\n",
      "     1.94884659e-01   3.98745360e-02]]\n",
      "\n",
      " [[  5.50200175e-01  -5.90338386e-01  -2.00445300e+00   2.67812586e-01\n",
      "     7.67254519e-01   1.24814177e+00]\n",
      "  [ -1.74557518e+00   2.33108242e-01   8.88456452e-01   4.28430549e-01\n",
      "    -7.76596248e-01   5.52439977e-01]\n",
      "  [  1.48922699e+00   1.03740513e-01   9.77408190e-01  -1.56900563e+00\n",
      "    -1.59937685e+00  -2.37142759e+00]]\n",
      "\n",
      " [[  1.46549621e+00  -3.18290128e-02   1.32452642e+00  -4.76468790e-01\n",
      "    -1.49853108e-01  -1.05905530e+00]\n",
      "  [ -1.03544933e+00  -1.89576089e+00   9.66925429e-01   7.04193371e-01\n",
      "     1.14065354e-01  -1.01667680e+00]\n",
      "  [  4.39070781e-01   1.13854644e+00  -6.58114389e-01  -6.66661186e-01\n",
      "     8.02914265e-02   1.39463680e+00]]\n",
      "\n",
      " [[ -3.87683331e-01  -3.68008060e-01  -1.16639123e+00   2.01432925e+00\n",
      "     2.69099706e-01  -1.20500182e+00]\n",
      "  [ -1.69579291e+00   6.53779637e-01  -3.68956163e-01  -7.24800579e-01\n",
      "     5.91732870e-01   8.10769595e-01]\n",
      "  [ -7.62621991e-01   9.41905624e-01  -1.22784533e+00   1.08613436e+00\n",
      "     6.72307869e-01  -1.76869429e+00]]\n",
      "\n",
      " [[  9.99878303e-01  -8.59444315e-01  -4.39176018e-01   1.37733794e+00\n",
      "     6.89674749e-01   1.65471848e-01]\n",
      "  [  4.08897423e-01   1.11731035e+00   7.78685525e-01   3.92928272e-01\n",
      "     2.59316580e-02   4.96042283e-01]\n",
      "  [  3.85491453e-01  -1.97418652e+00  -7.19341301e-02  -1.25478326e+00\n",
      "     2.38146970e-01  -5.05832330e-01]]\n",
      "\n",
      " [[ -7.79295046e-02   2.72990520e+00  -7.27662846e-01   4.19617737e-01\n",
      "     2.22852131e-01  -6.82698180e-01]\n",
      "  [  2.67277081e-01   1.02245553e-01   4.03223378e-01   2.83174463e-01\n",
      "     1.07021296e+00  -9.98253830e-01]\n",
      "  [  2.59096744e+00  -1.02618293e+00  -1.38238339e+00  -1.70461569e+00\n",
      "     1.14827406e+00  -5.61185228e-01]]\n",
      "\n",
      " [[  2.26729539e+00  -7.50833001e-01   1.00228682e+00  -3.83823512e-01\n",
      "     6.22919916e-04   5.25760340e-01]\n",
      "  [  2.34972511e+00  -1.02509693e+00   2.09776690e+00  -9.72191733e-01\n",
      "    -1.64351136e-02  -3.38088797e-01]\n",
      "  [ -5.37665522e-01   6.02066326e-02  -7.92127935e-01   2.34918595e+00\n",
      "    -3.15239645e-01   7.70326595e-01]]\n",
      "\n",
      " [[ -2.57860523e-01   3.94309943e-01  -5.00641427e-01   1.19220423e+00\n",
      "     3.30667193e-01   4.46257728e-01]\n",
      "  [ -1.86821000e-01   1.22593454e+00  -1.27967399e+00  -9.73118134e-01\n",
      "    -1.11796236e-01  -8.54094301e-01]\n",
      "  [  1.50142296e+00  -1.78113464e-01   6.65527174e-01   9.85865120e-01\n",
      "     3.83310977e-01  -9.80103985e-01]]\n",
      "\n",
      " [[ -2.57757799e-01  -1.32934836e+00   5.84057864e-01   4.12133464e-01\n",
      "    -1.23681019e+00  -2.88354009e-01]\n",
      "  [ -2.12206555e+00   7.02026467e-01   2.44767289e-01   1.74598313e+00\n",
      "     1.23196768e+00  -7.70537131e-01]\n",
      "  [ -2.25022656e-01  -1.35400431e-01   1.37534475e+00  -7.20375813e-01\n",
      "    -5.10439252e-01   2.58761455e-01]]\n",
      "\n",
      " [[  5.22106841e-01  -9.73720526e-02  -9.02969368e-01   1.82263275e-01\n",
      "     6.86467089e-01   5.05563497e-01]\n",
      "  [ -6.71837487e-01   1.20399935e+00  -2.98647651e-01   9.52438582e-01\n",
      "    -2.35049991e+00   1.90826436e-01]\n",
      "  [ -1.43435259e+00   9.91535231e-01  -7.19576155e-01  -1.53971552e+00\n",
      "     8.40878406e-01   2.89544811e-01]]\n",
      "\n",
      " [[ -1.18458385e-01   1.06861667e-01  -8.52303664e-02   1.69151993e-01\n",
      "     6.96241518e-01  -2.39928800e-01]\n",
      "  [  6.94368964e-01  -4.55763979e-01   7.19581257e-01  -3.35726098e+00\n",
      "     5.03097584e-01  -7.01863639e-01]\n",
      "  [  1.47590887e-01   3.76797986e-01   3.88695251e-01   4.29113474e-01\n",
      "     3.22317443e-01  -8.34382081e-01]]\n",
      "\n",
      " [[ -1.29806861e-01  -6.89629165e-01  -1.07195517e-01  -3.70674133e-01\n",
      "    -7.77168771e-01   1.35585768e+00]\n",
      "  [ -1.30934916e-01   7.58937554e-01   1.94855280e+00  -4.25903714e-01\n",
      "     9.85744757e-01   7.20196341e-01]\n",
      "  [ -9.46919020e-01   1.06614877e-01  -7.80168082e-01  -6.62053737e-01\n",
      "     9.24253417e-01   4.16763183e-01]]\n",
      "\n",
      " [[ -1.42883782e+00  -3.62564783e-01  -2.85494798e-01   2.58987032e-01\n",
      "     1.11269135e+00   1.14589313e-01]\n",
      "  [ -5.86189718e-01   6.42624859e-01   1.39381437e+00  -1.15891788e+00\n",
      "     1.06142165e-01   1.03165676e+00]\n",
      "  [  1.28985840e+00   4.37505743e-01  -1.44089796e+00   1.22204519e+00\n",
      "     6.11914116e-01  -8.92812905e-01]]\n",
      "\n",
      " [[  1.59600986e-01   7.07367827e-01   4.38265029e-01   2.58833056e+00\n",
      "    -1.69550861e-02   6.52245073e-01]\n",
      "  [  2.86347738e-02   3.73773129e-02   5.22121086e-01  -1.32571119e+00\n",
      "     1.26166922e+00  -1.26686444e+00]\n",
      "  [ -1.36986085e+00  -5.74158813e-01   2.37749366e-01  -1.26800424e+00\n",
      "    -1.18610960e+00   4.69248990e-01]]\n",
      "\n",
      " [[  1.56247643e+00  -6.30555212e-01   2.46301196e-01   7.60499455e-01\n",
      "     5.12912137e-01   2.00293856e+00]\n",
      "  [ -1.61204775e-01   1.65923505e+00  -3.24611981e-02   1.93156431e-02\n",
      "    -9.79948342e-01  -3.49230446e-01]\n",
      "  [ -1.33231798e+00   1.90463784e+00  -6.59405119e-01  -3.03746949e-01\n",
      "    -2.01048733e+00   2.21284106e+00]]\n",
      "\n",
      " [[  9.53278625e-01  -2.01012499e+00   2.57591871e+00  -7.62709263e-02\n",
      "     3.12642287e-01   4.99502814e-01]\n",
      "  [ -4.73631694e-01  -8.60287433e-01   6.97480192e-01  -6.19818006e-01\n",
      "     1.35322782e-01   2.98796324e-01]\n",
      "  [ -5.89049308e-01  -6.07762359e-01   3.11629842e-01   1.87982605e-01\n",
      "     1.01388825e+00  -5.70748173e-01]]]\n",
      "----------\n",
      "[[  4.42541369   3.78163414   1.45347694   0.84135755  -2.30410294\n",
      "   -1.70603816]\n",
      " [ -5.84632084  11.56701758  -3.7984829   -2.37713337   3.13346866\n",
      "   -4.11582367]\n",
      " [-10.98052304   0.12194012   0.50035322  -3.76426511  -3.38907821\n",
      "    3.92157004]\n",
      " [  0.56389941   0.04542047  -3.70165147   1.21903553   8.65098153\n",
      "   -5.23276116]\n",
      " [  7.43450129  -3.89664116   0.30567501  -0.77150513  -4.55672705\n",
      "   -0.61657026]]\n",
      "----------\n",
      "[[  4.42541369   3.78163414   1.45347694   0.84135755  -2.30410294\n",
      "   -1.70603816]\n",
      " [ -5.84632084  11.56701758  -3.7984829   -2.37713337   3.13346866\n",
      "   -4.11582367]\n",
      " [-10.98052304   0.12194012   0.50035322  -3.76426511  -3.38907821\n",
      "    3.92157004]\n",
      " [  0.56389941   0.04542047  -3.70165147   1.21903553   8.65098153\n",
      "   -5.23276116]\n",
      " [  7.43450129  -3.89664116   0.30567501  -0.77150513  -4.55672705\n",
      "   -0.61657026]]\n",
      "dW error:  3.27745956931e-12\n"
     ]
    }
   ],
   "source": [
    "np.random.seed(231)\n",
    "\n",
    "N, T, V, D = 50, 3, 5, 6\n",
    "x = np.random.randint(V, size=(N, T))\n",
    "W = np.random.randn(V, D)\n",
    "\n",
    "out, cache = word_embedding_forward(x, W)\n",
    "dout = np.random.randn(*out.shape)\n",
    "dW = word_embedding_backward(dout, cache)\n",
    "\n",
    "f = lambda W: word_embedding_forward(x, W)[0]\n",
    "dW_num = eval_numerical_gradient_array(f, W, dout)\n",
    "\n",
    "print('dW error: ', rel_error(dW, dW_num))"
   ]
  },
  {
   "cell_type": "markdown",
   "metadata": {
    "deletable": true,
    "editable": true
   },
   "source": [
    "# Temporal Affine layer\n",
    "At every timestep we use an affine function to transform the RNN hidden vector at that timestep into scores for each word in the vocabulary. Because this is very similar to the affine layer that you implemented in assignment 2, we have provided this function for you in the `temporal_affine_forward` and `temporal_affine_backward` functions in the file `cs231n/rnn_layers.py`. Run the following to perform numeric gradient checking on the implementation. You should see errors less than 1e-9."
   ]
  },
  {
   "cell_type": "code",
   "execution_count": null,
   "metadata": {
    "collapsed": false,
    "deletable": true,
    "editable": true
   },
   "outputs": [],
   "source": [
    "np.random.seed(231)\n",
    "\n",
    "# Gradient check for temporal affine layer\n",
    "N, T, D, M = 2, 3, 4, 5\n",
    "x = np.random.randn(N, T, D)\n",
    "w = np.random.randn(D, M)\n",
    "b = np.random.randn(M)\n",
    "\n",
    "out, cache = temporal_affine_forward(x, w, b)\n",
    "\n",
    "dout = np.random.randn(*out.shape)\n",
    "\n",
    "fx = lambda x: temporal_affine_forward(x, w, b)[0]\n",
    "fw = lambda w: temporal_affine_forward(x, w, b)[0]\n",
    "fb = lambda b: temporal_affine_forward(x, w, b)[0]\n",
    "\n",
    "dx_num = eval_numerical_gradient_array(fx, x, dout)\n",
    "dw_num = eval_numerical_gradient_array(fw, w, dout)\n",
    "db_num = eval_numerical_gradient_array(fb, b, dout)\n",
    "\n",
    "dx, dw, db = temporal_affine_backward(dout, cache)\n",
    "\n",
    "print('dx error: ', rel_error(dx_num, dx))\n",
    "print('dw error: ', rel_error(dw_num, dw))\n",
    "print('db error: ', rel_error(db_num, db))"
   ]
  },
  {
   "cell_type": "markdown",
   "metadata": {
    "deletable": true,
    "editable": true
   },
   "source": [
    "# Temporal Softmax loss\n",
    "In an RNN language model, at every timestep we produce a score for each word in the vocabulary. We know the ground-truth word at each timestep, so we use a softmax loss function to compute loss and gradient at each timestep. We sum the losses over time and average them over the minibatch.\n",
    "\n",
    "However there is one wrinkle: since we operate over minibatches and different captions may have different lengths, we append `<NULL>` tokens to the end of each caption so they all have the same length. We don't want these `<NULL>` tokens to count toward the loss or gradient, so in addition to scores and ground-truth labels our loss function also accepts a `mask` array that tells it which elements of the scores count towards the loss.\n",
    "\n",
    "Since this is very similar to the softmax loss function you implemented in assignment 1, we have implemented this loss function for you; look at the `temporal_softmax_loss` function in the file `cs231n/rnn_layers.py`.\n",
    "\n",
    "Run the following cell to sanity check the loss and perform numeric gradient checking on the function. You should see an error for dx less than 1e-7."
   ]
  },
  {
   "cell_type": "code",
   "execution_count": null,
   "metadata": {
    "collapsed": false,
    "deletable": true,
    "editable": true
   },
   "outputs": [],
   "source": [
    "# Sanity check for temporal softmax loss\n",
    "from cs231n.rnn_layers import temporal_softmax_loss\n",
    "\n",
    "N, T, V = 100, 1, 10\n",
    "\n",
    "def check_loss(N, T, V, p):\n",
    "    x = 0.001 * np.random.randn(N, T, V)\n",
    "    y = np.random.randint(V, size=(N, T))\n",
    "    mask = np.random.rand(N, T) <= p\n",
    "    print(temporal_softmax_loss(x, y, mask)[0])\n",
    "  \n",
    "check_loss(100, 1, 10, 1.0)   # Should be about 2.3\n",
    "check_loss(100, 10, 10, 1.0)  # Should be about 23\n",
    "check_loss(5000, 10, 10, 0.1) # Should be about 2.3\n",
    "\n",
    "# Gradient check for temporal softmax loss\n",
    "N, T, V = 7, 8, 9\n",
    "\n",
    "x = np.random.randn(N, T, V)\n",
    "y = np.random.randint(V, size=(N, T))\n",
    "mask = (np.random.rand(N, T) > 0.5)\n",
    "\n",
    "loss, dx = temporal_softmax_loss(x, y, mask, verbose=False)\n",
    "\n",
    "dx_num = eval_numerical_gradient(lambda x: temporal_softmax_loss(x, y, mask)[0], x, verbose=False)\n",
    "\n",
    "print('dx error: ', rel_error(dx, dx_num))"
   ]
  },
  {
   "cell_type": "markdown",
   "metadata": {
    "deletable": true,
    "editable": true
   },
   "source": [
    "# RNN for image captioning\n",
    "Now that you have implemented the necessary layers, you can combine them to build an image captioning model. Open the file `cs231n/classifiers/rnn.py` and look at the `CaptioningRNN` class.\n",
    "\n",
    "Implement the forward and backward pass of the model in the `loss` function. For now you only need to implement the case where `cell_type='rnn'` for vanialla RNNs; you will implement the LSTM case later. After doing so, run the following to check your forward pass using a small test case; you should see error less than `1e-10`."
   ]
  },
  {
   "cell_type": "code",
   "execution_count": null,
   "metadata": {
    "collapsed": false,
    "deletable": true,
    "editable": true,
    "scrolled": false
   },
   "outputs": [],
   "source": [
    "N, D, W, H = 10, 20, 30, 40\n",
    "word_to_idx = {'<NULL>': 0, 'cat': 2, 'dog': 3}\n",
    "V = len(word_to_idx)\n",
    "T = 13\n",
    "\n",
    "model = CaptioningRNN(word_to_idx,\n",
    "          input_dim=D,\n",
    "          wordvec_dim=W,\n",
    "          hidden_dim=H,\n",
    "          cell_type='rnn',\n",
    "          dtype=np.float64)\n",
    "\n",
    "# Set all model parameters to fixed values\n",
    "for k, v in model.params.items():\n",
    "    model.params[k] = np.linspace(-1.4, 1.3, num=v.size).reshape(*v.shape)\n",
    "\n",
    "features = np.linspace(-1.5, 0.3, num=(N * D)).reshape(N, D)\n",
    "captions = (np.arange(N * T) % V).reshape(N, T)\n",
    "\n",
    "loss, grads = model.loss(features, captions)\n",
    "expected_loss = 9.83235591003\n",
    "\n",
    "print('loss: ', loss)\n",
    "print('expected loss: ', expected_loss)\n",
    "print('difference: ', abs(loss - expected_loss))"
   ]
  },
  {
   "cell_type": "markdown",
   "metadata": {
    "deletable": true,
    "editable": true
   },
   "source": [
    "Run the following cell to perform numeric gradient checking on the `CaptioningRNN` class; you should errors around `5e-6` or less."
   ]
  },
  {
   "cell_type": "code",
   "execution_count": null,
   "metadata": {
    "collapsed": false,
    "deletable": true,
    "editable": true
   },
   "outputs": [],
   "source": [
    "np.random.seed(231)\n",
    "\n",
    "batch_size = 2\n",
    "timesteps = 3\n",
    "input_dim = 4\n",
    "wordvec_dim = 5\n",
    "hidden_dim = 6\n",
    "word_to_idx = {'<NULL>': 0, 'cat': 2, 'dog': 3}\n",
    "vocab_size = len(word_to_idx)\n",
    "\n",
    "captions = np.random.randint(vocab_size, size=(batch_size, timesteps))\n",
    "features = np.random.randn(batch_size, input_dim)\n",
    "\n",
    "model = CaptioningRNN(word_to_idx,\n",
    "          input_dim=input_dim,\n",
    "          wordvec_dim=wordvec_dim,\n",
    "          hidden_dim=hidden_dim,\n",
    "          cell_type='rnn',\n",
    "          dtype=np.float64,\n",
    "        )\n",
    "\n",
    "loss, grads = model.loss(features, captions)\n",
    "\n",
    "for param_name in sorted(grads):\n",
    "    f = lambda _: model.loss(features, captions)[0]\n",
    "    param_grad_num = eval_numerical_gradient(f, model.params[param_name], verbose=False, h=1e-6)\n",
    "    e = rel_error(param_grad_num, grads[param_name])\n",
    "    print('%s relative error: %e' % (param_name, e))"
   ]
  },
  {
   "cell_type": "markdown",
   "metadata": {
    "deletable": true,
    "editable": true
   },
   "source": [
    "# Overfit small data\n",
    "Similar to the `Solver` class that we used to train image classification models on the previous assignment, on this assignment we use a `CaptioningSolver` class to train image captioning models. Open the file `cs231n/captioning_solver.py` and read through the `CaptioningSolver` class; it should look very familiar.\n",
    "\n",
    "Once you have familiarized yourself with the API, run the following to make sure your model overfit a small sample of 100 training examples. You should see losses of less than 0.1."
   ]
  },
  {
   "cell_type": "code",
   "execution_count": null,
   "metadata": {
    "collapsed": false,
    "deletable": true,
    "editable": true
   },
   "outputs": [],
   "source": [
    "np.random.seed(231)\n",
    "\n",
    "small_data = load_coco_data(max_train=50)\n",
    "\n",
    "small_rnn_model = CaptioningRNN(\n",
    "          cell_type='rnn',\n",
    "          word_to_idx=data['word_to_idx'],\n",
    "          input_dim=data['train_features'].shape[1],\n",
    "          hidden_dim=512,\n",
    "          wordvec_dim=256,\n",
    "        )\n",
    "\n",
    "small_rnn_solver = CaptioningSolver(small_rnn_model, small_data,\n",
    "           update_rule='adam',\n",
    "           num_epochs=50,\n",
    "           batch_size=25,\n",
    "           optim_config={\n",
    "             'learning_rate': 5e-3,\n",
    "           },\n",
    "           lr_decay=0.95,\n",
    "           verbose=True, print_every=10,\n",
    "         )\n",
    "\n",
    "small_rnn_solver.train()\n",
    "\n",
    "# Plot the training losses\n",
    "plt.plot(small_rnn_solver.loss_history)\n",
    "plt.xlabel('Iteration')\n",
    "plt.ylabel('Loss')\n",
    "plt.title('Training loss history')\n",
    "plt.show()"
   ]
  },
  {
   "cell_type": "markdown",
   "metadata": {
    "deletable": true,
    "editable": true
   },
   "source": [
    "# Test-time sampling\n",
    "Unlike classification models, image captioning models behave very differently at training time and at test time. At training time, we have access to the ground-truth caption, so we feed ground-truth words as input to the RNN at each timestep. At test time, we sample from the distribution over the vocabulary at each timestep, and feed the sample as input to the RNN at the next timestep.\n",
    "\n",
    "In the file `cs231n/classifiers/rnn.py`, implement the `sample` method for test-time sampling. After doing so, run the following to sample from your overfitted model on both training and validation data. The samples on training data should be very good; the samples on validation data probably won't make sense."
   ]
  },
  {
   "cell_type": "code",
   "execution_count": null,
   "metadata": {
    "collapsed": false,
    "deletable": true,
    "editable": true,
    "scrolled": false
   },
   "outputs": [],
   "source": [
    "for split in ['train', 'val']:\n",
    "    minibatch = sample_coco_minibatch(small_data, split=split, batch_size=2)\n",
    "    gt_captions, features, urls = minibatch\n",
    "    gt_captions = decode_captions(gt_captions, data['idx_to_word'])\n",
    "\n",
    "    sample_captions = small_rnn_model.sample(features)\n",
    "    sample_captions = decode_captions(sample_captions, data['idx_to_word'])\n",
    "\n",
    "    for gt_caption, sample_caption, url in zip(gt_captions, sample_captions, urls):\n",
    "        plt.imshow(image_from_url(url))\n",
    "        plt.title('%s\\n%s\\nGT:%s' % (split, sample_caption, gt_caption))\n",
    "        plt.axis('off')\n",
    "        plt.show()"
   ]
  }
 ],
 "metadata": {
  "kernelspec": {
   "display_name": "Python 3",
   "language": "python",
   "name": "python3"
  },
  "language_info": {
   "codemirror_mode": {
    "name": "ipython",
    "version": 3
   },
   "file_extension": ".py",
   "mimetype": "text/x-python",
   "name": "python",
   "nbconvert_exporter": "python",
   "pygments_lexer": "ipython3",
   "version": "3.6.3"
  }
 },
 "nbformat": 4,
 "nbformat_minor": 0
}
